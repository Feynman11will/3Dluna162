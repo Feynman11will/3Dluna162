{
 "cells": [
  {
   "cell_type": "code",
   "execution_count": 1,
   "metadata": {
    "pycharm": {
     "is_executing": false
    }
   },
   "outputs": [
    {
     "name": "stdout",
     "output_type": "stream",
     "text": [
      "end preprocessing luna\n"
     ]
    }
   ],
   "source": [
    "from prepare import full_prep\n",
    "from configure import config\n",
    "import pandas\n",
    "import numpy as np\n",
    "from loader import load_itk_image\n",
    "import matplotlib.pyplot as plt\n",
    "from time import sleep\n",
    "%matplotlib inline\n",
    "\n",
    "from IPython import display\n",
    "import os\n",
    "import extract"
   ]
  },
  {
   "cell_type": "code",
   "execution_count": 2,
   "metadata": {},
   "outputs": [],
   "source": [
    "# path = '/data2/wangll/02Dataset/LUNA2016_data/seg-lungs-LUNA16/1.3.6.1.4.1.14519.5.2.1.6279.6001.997611074084993415992563148335.mhd'"
   ]
  },
  {
   "cell_type": "code",
   "execution_count": 3,
   "metadata": {},
   "outputs": [],
   "source": [
    "# numpyImage, numpyOrigin, numpySpacing, isflip = load_itk_image(path)"
   ]
  },
  {
   "cell_type": "markdown",
   "metadata": {},
   "source": [
    "显示切片"
   ]
  },
  {
   "cell_type": "markdown",
   "metadata": {},
   "source": [
    "# for i in range(numpyImage.shape[0]):\n",
    "#     sleep(0.1)\n",
    "#     plt.imshow(numpyImage[i],cmap='gray')\n",
    "#     display.clear_output(wait=True)\n",
    "# plt.imshow(numpyImage[150],cmap='gray')"
   ]
  },
  {
   "cell_type": "code",
   "execution_count": 4,
   "metadata": {},
   "outputs": [],
   "source": [
    "# np.unique(numpyImage[150])"
   ]
  },
  {
   "cell_type": "code",
   "execution_count": 5,
   "metadata": {
    "pycharm": {
     "is_executing": false,
     "name": "#%%\n"
    }
   },
   "outputs": [],
   "source": [
    "# luna_label = config['luna_label']\n",
    "# prep_folder = config['preprocess_result_path']\n",
    "# data_path = config['luna_segment']\n",
    "# annos = np.array(pandas.read_csv(luna_label))\n",
    "# full_prep(data_path, prep_folder, n_worker=6, use_existing=True, annos=annos)"
   ]
  },
  {
   "cell_type": "code",
   "execution_count": 6,
   "metadata": {},
   "outputs": [],
   "source": [
    "# extract.extractor() "
   ]
  },
  {
   "cell_type": "code",
   "execution_count": null,
   "metadata": {},
   "outputs": [],
   "source": [
    "from ../train.trainer import test"
   ]
  },
  {
   "cell_type": "code",
   "execution_count": null,
   "metadata": {},
   "outputs": [],
   "source": []
  }
 ],
 "metadata": {
  "kernelspec": {
   "display_name": "Python 3",
   "language": "python",
   "name": "python3"
  },
  "language_info": {
   "codemirror_mode": {
    "name": "ipython",
    "version": 3
   },
   "file_extension": ".py",
   "mimetype": "text/x-python",
   "name": "python",
   "nbconvert_exporter": "python",
   "pygments_lexer": "ipython3",
   "version": "3.6.9"
  },
  "pycharm": {
   "stem_cell": {
    "cell_type": "raw",
    "metadata": {
     "collapsed": false
    },
    "source": []
   }
  }
 },
 "nbformat": 4,
 "nbformat_minor": 1
}
